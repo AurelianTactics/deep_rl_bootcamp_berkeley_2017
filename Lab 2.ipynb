{
 "cells": [
  {
   "cell_type": "code",
   "execution_count": 1,
   "metadata": {},
   "outputs": [
    {
     "name": "stderr",
     "output_type": "stream",
     "text": [
      "/home/jim/anaconda3/envs/gym35/lib/python3.5/site-packages/h5py/__init__.py:34: FutureWarning: Conversion of the second argument of issubdtype from `float` to `np.floating` is deprecated. In future, it will be treated as `np.float64 == np.dtype(float).type`.\n",
      "  from ._conv import register_converters as _register_converters\n"
     ]
    }
   ],
   "source": [
    "\"\"\"\n",
    "This project was developed by Peter Chen, Rocky Duan, Pieter Abbeel for the Berkeley Deep RL Bootcamp, August 2017.\n",
    "Bootcamp website with slides and lecture videos: https://sites.google.com/view/deep-rl-bootcamp/.\n",
    "\n",
    "Code adapted from Stanford CS231N materials: http://cs231n.stanford.edu/\n",
    "\"\"\"\n",
    "\n",
    "\n",
    "# note to properly run this lab, you should execute all code blocks sequentially\n",
    "import chainer\n",
    "import chainer.functions as F\n",
    "import chainer.links as L\n",
    "from chainer import training\n",
    "from chainer.training import extensions\n",
    "\n",
    "from collections import namedtuple, defaultdict, deque\n",
    "\n",
    "import numpy as np\n",
    "\n",
    "%matplotlib inline\n",
    "\n",
    "import matplotlib\n",
    "import matplotlib.pyplot as plt"
   ]
  },
  {
   "cell_type": "markdown",
   "metadata": {},
   "source": [
    "## Introduction to Chainer\n",
    "\n",
    "Chainer can be understood as Numpy plus the ability to record the computation graph of numerical operations to enable Automatic Differentiation. (Chainer actually also offers many other things; for example, a Numpy equivalent library that runs on GPU, but we will ignore them for now)"
   ]
  },
  {
   "cell_type": "markdown",
   "metadata": {},
   "source": [
    "Let's illustrate how Chainer works by a simple 1D regression task.\n",
    "\n",
    "Suppose we have observations from the following model $y = w x + b + \\epsilon$ where $\\epsilon \\sim \\mathcal{N}(0, 0.1)$ and the task is to estimate the linear model parameters $w, b$ from data."
   ]
  },
  {
   "cell_type": "code",
   "execution_count": 2,
   "metadata": {},
   "outputs": [
    {
     "data": {
      "image/png": "[encoded data removed]",
      "text/plain": [
       "<matplotlib.figure.Figure at 0x7f685b11a2e8>"
      ]
     },
     "metadata": {},
     "output_type": "display_data"
    }
   ],
   "source": [
    "# first generate some observations\n",
    "true_a = 1.3\n",
    "true_b = 0.4\n",
    "data_x = (np.arange(100) / 99.0 - .5).astype(np.float32) # Chainer assumes all the cpu computation is done in float32\n",
    "data_y = (data_x * true_a + true_b + np.random.randn(*data_x.shape) * 0.1).astype(np.float32)\n",
    "_ = plt.scatter(data_x, data_y, c='b')"
   ]
  },
  {
   "cell_type": "markdown",
   "metadata": {},
   "source": [
    "Chainer provides an abstraction called `Link` that describe some computation and keeps track of parameters for it. For instance, a `Linear` link describes a linear map on input and keeps track of `w` and bias `b`."
   ]
  },
  {
   "cell_type": "code",
   "execution_count": 4,
   "metadata": {},
   "outputs": [
    {
     "name": "stdout",
     "output_type": "stream",
     "text": [
      "w: variable W([[0.00018879]])\n",
      "b: variable b([0.])\n",
      "Operations on chainer.Variable: variable([[123.00019]]), type: <class 'chainer.variable.Variable'>\n",
      "numpy arrays: [[0.00018879]] [[123.00019]]\n"
     ]
    }
   ],
   "source": [
    "model = L.Linear(in_size=1, out_size=1) # input is 1D data and output is also 1D data\n",
    "\n",
    "# Chainer will randomly initialize `w` and `b` for us.\n",
    "# we can take a look at their values\n",
    "print(\"w:\", model.W)\n",
    "print(\"b:\", model.b)\n",
    "\n",
    "# model.W and model.b have type `chainer.Variable`, \n",
    "#   which is a wrapper around Numpy array\n",
    "assert isinstance(model.W, chainer.Variable)\n",
    "\n",
    "# operations that involve `chainer.Variable` will produce\n",
    "#   `chainer.Variable` and this records the computation graph\n",
    "var_result = model.W + 123 # some random computation\n",
    "print(\"Operations on chainer.Variable: %s, type: %s\" % (var_result, type(var_result)))\n",
    "\n",
    "# the underlying numpy array can be accessed by `data` attribute\n",
    "print(\"numpy arrays:\", model.W.data, var_result.data)"
   ]
  },
  {
   "cell_type": "code",
   "execution_count": 5,
   "metadata": {},
   "outputs": [
    {
     "data": {
      "image/png": "[encoded data removed]",
      "text/plain": [
       "<matplotlib.figure.Figure at 0x7f685b11a0b8>"
      ]
     },
     "metadata": {},
     "output_type": "display_data"
    }
   ],
   "source": [
    "# A chainer link is a callable object. calling it performs the\n",
    "#   forward computation. (in this case, it performs Wx + b)\n",
    "model_y = model(data_x[:, None]) # chainer's link usually assumes input is [Batch Size, Input Dimension]\n",
    "# `model_y` is a chainer variable so we use `.data` to access its numpy array for plotting\n",
    "\n",
    "# we can plot the model's current fit in red. it should be terrible because we haven't trained it yet\n",
    "_ = plt.plot(data_x, model_y.data[:,0], c='r')\n",
    "_ = plt.scatter(data_x, data_y, c='b')\n",
    "_ = plt.title(\"Initial model\")"
   ]
  },
  {
   "cell_type": "code",
   "execution_count": 6,
   "metadata": {},
   "outputs": [
    {
     "name": "stdout",
     "output_type": "stream",
     "text": [
      "loss variable(0.29198888)\n",
      "dloss/dW [[-0.21909025]]\n"
     ]
    }
   ],
   "source": [
    "# now let's walk through how to perform forward computation\n",
    "#  and use AD to get gradients\n",
    "\n",
    "# first we clear the gradients that are stored in the model\n",
    "model.cleargrads()\n",
    "# as we have seen we can perform forward computation by calling the link\n",
    "model_y = model(data_x[:, None])\n",
    "\n",
    "# remember that `model_y` is a chainer variable. to operate on chainer variable\n",
    "#    we will use functions from chainer.functions to operate on those objects.\n",
    "loss = F.mean(F.square(model_y - data_y[:, None]))\n",
    "# `loss` is a scalar chainer variable\n",
    "assert isinstance(loss, chainer.Variable)\n",
    "print(\"loss\", loss)\n",
    "# calculating gradients d loss /d params is as simple as\n",
    "loss.backward()\n",
    "\n",
    "# we can inspect the gradient of loss with respect to W\n",
    "print(\"dloss/dW\", model.W.grad)"
   ]
  },
  {
   "cell_type": "markdown",
   "metadata": {},
   "source": [
    "Now that we know how to calculate gradients, we can code up a simple loop to perform gradient descent to train this model:\n",
    "\n",
    "(Hint: if you run into weird problems, maybe the state has been messed up and you can try re-runing all the code blocks from the beginning)"
   ]
  },
  {
   "cell_type": "code",
   "execution_count": 10,
   "metadata": {},
   "outputs": [
    {
     "name": "stdout",
     "output_type": "stream",
     "text": [
      "Itr 0 loss: variable(0.15111804)\n",
      "Itr 25 loss: variable(0.00754209)\n",
      "Itr 50 loss: variable(0.00748643)\n",
      "Itr 75 loss: variable(0.00747114)\n"
     ]
    },
    {
     "data": {
      "image/png": "[encoded data removed]",
      "text/plain": [
       "<matplotlib.figure.Figure at 0x7f6858bf5438>"
      ]
     },
     "metadata": {},
     "output_type": "display_data"
    },
    {
     "data": {
      "image/png": "[encoded data removed]",
      "text/plain": [
       "<matplotlib.figure.Figure at 0x7f6858c2b240>"
      ]
     },
     "metadata": {},
     "output_type": "display_data"
    }
   ],
   "source": [
    "# now we can perform gradient descent to improve this model\n",
    "model = L.Linear(in_size=1, out_size=1)\n",
    "losses = []\n",
    "\n",
    "for i in range(100):\n",
    "    model.cleargrads()\n",
    "    loss = F.mean(F.square(model(data_x[:, None]) - data_y[:, None]))\n",
    "    losses.append(float(loss.data))\n",
    "    ## *** YOUR CODE HERE TO PERFORM GRADIENT DESCENT ***\n",
    "    ## Hint: you could access gradients with model.W.grad, model.b.grad\n",
    "    ## Hint2: you could write data into a parameter with model.W.data[:] = some_numpy_array\n",
    "    ## Hint3: if your model doesn't learn, remember to try different learning rates\n",
    "    loss.backward()\n",
    "    model.W.data[:] -= 0.15*model.W.grad\n",
    "    model.b.data[:] -= 0.15*model.b.grad\n",
    "    \n",
    "    if i % 25 == 0:\n",
    "        print(\"Itr\", i, \"loss:\", loss)\n",
    "plt.plot(np.array(losses))\n",
    "plt.title(\"Learning curve\")\n",
    "plt.figure()\n",
    "plt.plot(data_x, model(data_x[:, None])[:,0].data, c='r')\n",
    "plt.scatter(data_x, data_y, c='b')\n",
    "_ = plt.title(\"Trained model fitness\")\n"
   ]
  },
  {
   "cell_type": "markdown",
   "metadata": {},
   "source": [
    "## Train your first deep model\n",
    "\n",
    "Now we have learned the basics of Chainer. We can use it to train a deep model to classify MNIST digits. We will train a model on the MNIST dataset because the dataset is small.\n",
    "\n",
    "First we load the data and see what the images look like:"
   ]
  },
  {
   "cell_type": "code",
   "execution_count": 11,
   "metadata": {
    "scrolled": false
   },
   "outputs": [
    {
     "name": "stderr",
     "output_type": "stream",
     "text": [
      "Downloading from http://yann.lecun.com/exdb/mnist/train-images-idx3-ubyte.gz...\n",
      "Downloading from http://yann.lecun.com/exdb/mnist/train-labels-idx1-ubyte.gz...\n",
      "Downloading from http://yann.lecun.com/exdb/mnist/t10k-images-idx3-ubyte.gz...\n",
      "Downloading from http://yann.lecun.com/exdb/mnist/t10k-labels-idx1-ubyte.gz...\n"
     ]
    },
    {
     "name": "stdout",
     "output_type": "stream",
     "text": [
      "train[i][0] is the ith image that's flattened, and has shape: (784,)\n",
      "train[i][1] is the ith image's label, such as: 3\n"
     ]
    },
    {
     "data": {
      "image/png": "[encoded data removed]",
      "text/plain": [
       "<matplotlib.figure.Figure at 0x7f6858cf8550>"
      ]
     },
     "metadata": {},
     "output_type": "display_data"
    },
    {
     "data": {
      "image/png": "[encoded data removed]",
      "text/plain": [
       "<matplotlib.figure.Figure at 0x7f6858dc0518>"
      ]
     },
     "metadata": {},
     "output_type": "display_data"
    }
   ],
   "source": [
    "train, test = chainer.datasets.get_mnist()\n",
    "# use train[data_point_index] to access data\n",
    "print(\"train[i][0] is the ith image that's flattened, and has shape:\", train[12][0].shape)\n",
    "print(\"train[i][1] is the ith image's label, such as:\", train[12][1])\n",
    "# here we visualize two of them\n",
    "plt.imshow(train[12][0].reshape([28, 28,]))\n",
    "plt.title(\"Label: %s\" % train[12][1])\n",
    "plt.figure()\n",
    "plt.imshow(train[42][0].reshape([28, 28,]))\n",
    "_ = plt.title(\"Label: %s\" % train[42][1])"
   ]
  },
  {
   "cell_type": "markdown",
   "metadata": {},
   "source": [
    "Next we will provide some boilerplate code and train a linear classifier as an example:"
   ]
  },
  {
   "cell_type": "code",
   "execution_count": 12,
   "metadata": {},
   "outputs": [
    {
     "name": "stdout",
     "output_type": "stream",
     "text": [
      "accuracy: 0.0625; loss: 2.2968640327453613\n",
      "accuracy: 0.88; loss: 0.5627782022953034\n",
      "accuracy: 0.885; loss: 0.44412090361118317\n",
      "accuracy: 0.925; loss: 0.3214197778701782\n",
      "accuracy: 0.8925; loss: 0.42477931797504426\n",
      "accuracy: 0.8875; loss: 0.39329455435276034\n",
      "accuracy: 0.9075; loss: 0.3366357982158661\n",
      "accuracy: 0.8925; loss: 0.41139505684375766\n",
      "accuracy: 0.92; loss: 0.3018104186654091\n",
      "accuracy: 0.9125; loss: 0.331228591799736\n",
      "accuracy: 0.8975; loss: 0.33718644082546234\n",
      "accuracy: 0.89; loss: 0.34411234825849535\n",
      "accuracy: 0.915; loss: 0.3019589990377426\n",
      "accuracy: 0.91; loss: 0.31041518956422803\n",
      "accuracy: 0.92; loss: 0.3012539088726044\n",
      "accuracy: 0.905; loss: 0.3384931644797325\n",
      "accuracy: 0.8875; loss: 0.3796446615457535\n",
      "accuracy: 0.9275; loss: 0.22186097770929336\n",
      "accuracy: 0.9325; loss: 0.26869087606668474\n",
      "accuracy: 0.935; loss: 0.2600890150666237\n",
      "accuracy: 0.9225; loss: 0.2508661404252052\n",
      "accuracy: 0.9275; loss: 0.24266562968492508\n",
      "accuracy: 0.9275; loss: 0.3037196797132492\n",
      "accuracy: 0.91; loss: 0.35428589761257173\n",
      "accuracy: 0.915; loss: 0.262075958698988\n",
      "accuracy: 0.92; loss: 0.24792733758687974\n"
     ]
    }
   ],
   "source": [
    "def run(model, batchsize=16, num_epochs=2):\n",
    "    \n",
    "    optimizer = chainer.optimizers.Adam() # we will use chainer's Adam implementation instead of writing our own gradient based optimization\n",
    "    optimizer.setup(model)\n",
    "    \n",
    "    stats = defaultdict(lambda: deque(maxlen=25))\n",
    "    for epoch in range(num_epochs):\n",
    "        train_iter = chainer.iterators.SerialIterator(train, batchsize, repeat=False, shuffle=True)\n",
    "        test_iter = chainer.iterators.SerialIterator(test, batchsize, repeat=False, shuffle=False)\n",
    "        \n",
    "        for itr, batch in enumerate(train_iter):\n",
    "            xs = np.concatenate([datum[0][None, :] for datum in batch])\n",
    "            ys = np.array([datum[1] for datum in batch])\n",
    "\n",
    "            logits = model(xs)\n",
    "\n",
    "            loss = F.softmax_cross_entropy(logits, ys)\n",
    "            model.cleargrads()\n",
    "            loss.backward()\n",
    "            optimizer.update()\n",
    "            \n",
    "            # calculate stats\n",
    "            stats[\"loss\"].append(float(loss.data))\n",
    "            stats[\"accuracy\"].append(float((logits.data.argmax(1) == ys).sum() / batchsize))\n",
    "            if itr % 300 == 0:\n",
    "                print(\"; \".join(\"%s: %s\" % (k, np.mean(vs)) for k, vs in stats.items()))\n",
    "\n",
    "# try a simple linear model\n",
    "run(L.Linear(None, 10))"
   ]
  },
  {
   "cell_type": "markdown",
   "metadata": {},
   "source": [
    "Next we will try to improve performance by training an MLP instead. A partial implementation is provided for you to fill in:"
   ]
  },
  {
   "cell_type": "code",
   "execution_count": 14,
   "metadata": {},
   "outputs": [
    {
     "name": "stdout",
     "output_type": "stream",
     "text": [
      "accuracy: 0.125; loss: 2.291797161102295\n",
      "accuracy: 0.7075; loss: 0.8317655420303345\n",
      "accuracy: 0.82; loss: 0.5130215799808502\n",
      "accuracy: 0.8425; loss: 0.47938869714736937\n",
      "accuracy: 0.8675; loss: 0.35102103888988495\n",
      "accuracy: 0.8725; loss: 0.377633176445961\n",
      "accuracy: 0.9025; loss: 0.2737328165769577\n",
      "accuracy: 0.88; loss: 0.3202575773000717\n",
      "accuracy: 0.88; loss: 0.3208086407184601\n",
      "accuracy: 0.88; loss: 0.324904128909111\n",
      "accuracy: 0.8675; loss: 0.3571711051464081\n",
      "accuracy: 0.875; loss: 0.35120949864387513\n",
      "accuracy: 0.8275; loss: 0.4312734740972519\n",
      "accuracy: 0.855; loss: 0.3710399055480957\n",
      "accuracy: 0.875; loss: 0.30970426082611086\n",
      "accuracy: 0.8825; loss: 0.32367910802364347\n",
      "accuracy: 0.885; loss: 0.30559984683990477\n",
      "accuracy: 0.8825; loss: 0.2867587172985077\n",
      "accuracy: 0.8825; loss: 0.3082790642976761\n",
      "accuracy: 0.89; loss: 0.30706623136997224\n",
      "accuracy: 0.875; loss: 0.3065944147109985\n",
      "accuracy: 0.9025; loss: 0.25465492725372313\n",
      "accuracy: 0.8575; loss: 0.35735321521759034\n",
      "accuracy: 0.875; loss: 0.3374605518579483\n",
      "accuracy: 0.88; loss: 0.29005883157253265\n",
      "accuracy: 0.8775; loss: 0.3357632279396057\n"
     ]
    }
   ],
   "source": [
    "class MLP(chainer.Chain):\n",
    "\n",
    "    def __init__(self, n_units, n_out):\n",
    "        super(MLP, self).__init__()\n",
    "        with self.init_scope():\n",
    "            # the size of the inputs to each layer will be inferred\n",
    "            self.l1 = L.Linear(None, n_units)  # n_in -> n_units\n",
    "            self.l2 = L.Linear(None, n_units)  # n_units -> n_units\n",
    "            self.l3 = L.Linear(None, n_out)  # n_units -> n_out\n",
    "\n",
    "    def __call__(self, x):\n",
    "        # *** YOUR CODE HERE TO BUILD AN MLP W/ self.l1, self.l2, self.l3 ***\n",
    "        # \n",
    "        # Hint: you should make use of non-linearities / activation functions\n",
    "        #     https://docs.chainer.org/en/stable/reference/functions.html#activation-functions\n",
    "        #raise NotImplementedError()\n",
    "        z1 = self.l1(x)\n",
    "        a1 = F.relu(z1)\n",
    "        z2 = self.l2(a1)\n",
    "        a2 = F.relu(z2)\n",
    "        z3 = self.l3(a2)\n",
    "        a3 = F.relu(z3)\n",
    "        return a3\n",
    "run(MLP(200, 10))"
   ]
  },
  {
   "cell_type": "markdown",
   "metadata": {},
   "source": [
    "Next you should try to implement logging test loss and see if the model is overfitting."
   ]
  },
  {
   "cell_type": "code",
   "execution_count": 19,
   "metadata": {},
   "outputs": [
    {
     "name": "stdout",
     "output_type": "stream",
     "text": [
      "accuracy: 0.1875; test_loss: 2.247252941131592; loss: 2.277754306793213; test_accuracy: 0.125\n",
      "accuracy: 0.83; test_loss: 1.3332199305295944; loss: 0.49143458127975465; test_accuracy: 0.46875\n",
      "accuracy: 0.8275; test_loss: 1.008173515399297; loss: 0.5109387499094009; test_accuracy: 0.6041666666666666\n",
      "accuracy: 0.8475; test_loss: 0.8319395408034325; loss: 0.4500081831216812; test_accuracy: 0.671875\n",
      "accuracy: 0.86; test_loss: 0.73211470246315; loss: 0.41666593551635744; test_accuracy: 0.7125\n",
      "accuracy: 0.8475; test_loss: 0.665085549155871; loss: 0.43163771867752077; test_accuracy: 0.7395833333333334\n",
      "accuracy: 0.8425; test_loss: 0.6156839345182691; loss: 0.39146905303001406; test_accuracy: 0.7589285714285714\n",
      "accuracy: 0.845; test_loss: 0.5787244066596031; loss: 0.43045378804206846; test_accuracy: 0.7734375\n",
      "accuracy: 0.88; test_loss: 0.5474096006817288; loss: 0.30428327202796934; test_accuracy: 0.7847222222222222\n",
      "accuracy: 0.89; test_loss: 0.5220834463834763; loss: 0.3149002516269684; test_accuracy: 0.79375\n",
      "accuracy: 0.88; test_loss: 0.5059077170762148; loss: 0.31890369951725006; test_accuracy: 0.8011363636363636\n",
      "accuracy: 0.8675; test_loss: 0.4886411825815837; loss: 0.3630827420949936; test_accuracy: 0.8072916666666666\n",
      "accuracy: 0.9; test_loss: 0.4736959246488718; loss: 0.2832773590087891; test_accuracy: 0.8125\n",
      "accuracy: 0.87; test_loss: 0.46084614523819517; loss: 0.31965056240558626; test_accuracy: 0.8169642857142857\n",
      "accuracy: 0.8825; test_loss: 0.4502710262934367; loss: 0.31616838157176974; test_accuracy: 0.8208333333333333\n",
      "accuracy: 0.87; test_loss: 0.44266317039728165; loss: 0.31859943747520447; test_accuracy: 0.82421875\n",
      "accuracy: 0.8625; test_loss: 0.43591635718065147; loss: 0.3299352782964706; test_accuracy: 0.8272058823529411\n",
      "accuracy: 0.8775; test_loss: 0.42875070373217267; loss: 0.3153515946865082; test_accuracy: 0.8298611111111112\n",
      "accuracy: 0.8575; test_loss: 0.421808145548168; loss: 0.37382942259311674; test_accuracy: 0.8322368421052632\n",
      "accuracy: 0.8675; test_loss: 0.4151728808879852; loss: 0.3262714445590973; test_accuracy: 0.834375\n",
      "accuracy: 0.8625; test_loss: 0.40928700140544344; loss: 0.3344863414764404; test_accuracy: 0.8363095238095238\n",
      "accuracy: 0.875; test_loss: 0.404625188220631; loss: 0.3410374736785889; test_accuracy: 0.8380681818181818\n",
      "accuracy: 0.865; test_loss: 0.40004639262738434; loss: 0.34410160839557646; test_accuracy: 0.8396739130434783\n",
      "accuracy: 0.885; test_loss: 0.39540168394645053; loss: 0.28538649797439575; test_accuracy: 0.8411458333333334\n",
      "accuracy: 0.865; test_loss: 0.39147005319595335; loss: 0.36220718145370484; test_accuracy: 0.8425\n",
      "accuracy: 0.8825; test_loss: 0.3141399371623993; loss: 0.2981747841835022; test_accuracy: 0.8725\n"
     ]
    }
   ],
   "source": [
    "def better_run(model, batchsize=16, num_epochs=2):\n",
    "\n",
    "    optimizer = chainer.optimizers.Adam() # we will use chainer's Adam implementation instead of writing our own gradient based optimization\n",
    "    optimizer.setup(model)\n",
    "    \n",
    "    stats = defaultdict(lambda: deque(maxlen=25))\n",
    "    for epoch in range(num_epochs):\n",
    "        train_iter = chainer.iterators.SerialIterator(train, batchsize, repeat=False, shuffle=True)\n",
    "        for itr, batch in enumerate(train_iter):\n",
    "            xs = np.concatenate([datum[0][None, :] for datum in batch])\n",
    "            ys = np.array([datum[1] for datum in batch])\n",
    "\n",
    "            logits = model(xs)\n",
    "\n",
    "            loss = F.softmax_cross_entropy(logits, ys)\n",
    "            model.cleargrads()\n",
    "            loss.backward()\n",
    "            optimizer.update()\n",
    "            \n",
    "            # calculate stats\n",
    "            stats[\"loss\"].append(float(loss.data))\n",
    "            stats[\"accuracy\"].append(float((logits.data.argmax(1) == ys).sum() / batchsize))\n",
    "            if itr % 300 == 0:\n",
    "                test_iter = chainer.iterators.SerialIterator(test, batchsize, repeat=False, shuffle=False)\n",
    "                # *** YOUR CODE implement logging of stats on test set ***\n",
    "                for _, test_batch in enumerate(test_iter):\n",
    "                    test_xs = np.concatenate([datum[0][None, :] for datum in test_batch])\n",
    "                    test_ys = np.array([datum[1] for datum in test_batch])\n",
    "\n",
    "                    test_logits = model(test_xs)\n",
    "\n",
    "                    test_loss = F.softmax_cross_entropy(test_logits, test_ys)\n",
    "                    model.cleargrads()\n",
    "                    test_loss.backward()\n",
    "                    #optimizer.update()\n",
    "                \n",
    "                stats[\"test_loss\"].append(float(test_loss.data))\n",
    "                stats[\"test_accuracy\"].append(float((test_logits.data.argmax(1) == test_ys).sum() / batchsize))\n",
    "                print(\"; \".join(\"%s: %s\" % (k, np.mean(vs)) for k, vs in stats.items()))\n",
    "\n",
    "better_run(MLP(200, 10))"
   ]
  },
  {
   "cell_type": "code",
   "execution_count": null,
   "metadata": {
    "collapsed": true
   },
   "outputs": [],
   "source": []
  },
  {
   "cell_type": "markdown",
   "metadata": {},
   "source": [
    "Try different variants!\n",
    "\n",
    "- Does using a ConvNet improve performance (reduce overfitting?)\n",
    "- Try changing the learning rate and observe the effect\n",
    "- Does the model train if you give it correlated gradients? (consecutively sample many batches of \"1\", then many batches of \"2\", ... etc"
   ]
  },
  {
   "cell_type": "code",
   "execution_count": 20,
   "metadata": {},
   "outputs": [
    {
     "name": "stdout",
     "output_type": "stream",
     "text": [
      "accuracy: 0.0625; test_loss: 2.194256067276001; loss: 2.309464931488037; test_accuracy: 0.125\n",
      "accuracy: 0.2675; test_loss: 1.9307005405426025; loss: 1.7942059707641602; test_accuracy: 0.21875\n",
      "accuracy: 0.31; test_loss: 1.8151860237121582; loss: 1.6655960416793822; test_accuracy: 0.25\n",
      "accuracy: 0.2725; test_loss: 1.7573553919792175; loss: 1.7554367113113403; test_accuracy: 0.265625\n",
      "accuracy: 0.3025; test_loss: 1.7280346870422363; loss: 1.6434006881713867; test_accuracy: 0.275\n",
      "accuracy: 0.2725; test_loss: 1.7038736740748088; loss: 1.7172736024856567; test_accuracy: 0.28125\n",
      "accuracy: 0.28; test_loss: 1.6866371631622314; loss: 1.7363063859939576; test_accuracy: 0.2857142857142857\n",
      "accuracy: 0.285; test_loss: 1.6738245636224747; loss: 1.6995904159545898; test_accuracy: 0.2890625\n",
      "accuracy: 0.2675; test_loss: 1.663742979367574; loss: 1.7204393243789673; test_accuracy: 0.2916666666666667\n",
      "accuracy: 0.3; test_loss: 1.6559738039970398; loss: 1.6554858350753785; test_accuracy: 0.29375\n",
      "accuracy: 0.27; test_loss: 1.662425312128934; loss: 1.783896532058716; test_accuracy: 0.29545454545454547\n",
      "accuracy: 0.27; test_loss: 1.6569884618123372; loss: 1.737121386528015; test_accuracy: 0.296875\n",
      "accuracy: 0.2625; test_loss: 1.651299238204956; loss: 1.7522000646591187; test_accuracy: 0.2980769230769231\n",
      "accuracy: 0.2875; test_loss: 1.6470559069088526; loss: 1.6622978353500366; test_accuracy: 0.29910714285714285\n",
      "accuracy: 0.285; test_loss: 1.6429412364959717; loss: 1.6710527563095092; test_accuracy: 0.3\n",
      "accuracy: 0.3075; test_loss: 1.6412984430789948; loss: 1.6733006811141968; test_accuracy: 0.30078125\n",
      "accuracy: 0.3425; test_loss: 1.6461494880564072; loss: 1.5551679229736328; test_accuracy: 0.3014705882352941\n",
      "accuracy: 0.36; test_loss: 1.6474637389183044; loss: 1.5568290376663207; test_accuracy: 0.3020833333333333\n",
      "accuracy: 0.3825; test_loss: 1.6377261249642623; loss: 1.5003783106803894; test_accuracy: 0.3059210526315789\n",
      "accuracy: 0.36; test_loss: 1.6206563591957093; loss: 1.532265043258667; test_accuracy: 0.3125\n",
      "accuracy: 0.42; test_loss: 1.6053134600321453; loss: 1.423095428943634; test_accuracy: 0.31845238095238093\n",
      "accuracy: 0.445; test_loss: 1.5923390280116687; loss: 1.3483985114097594; test_accuracy: 0.32386363636363635\n",
      "accuracy: 0.4525; test_loss: 1.5673417267592058; loss: 1.354225286245346; test_accuracy: 0.3342391304347826\n",
      "accuracy: 0.445; test_loss: 1.550328090786934; loss: 1.3807342219352723; test_accuracy: 0.3411458333333333\n",
      "accuracy: 0.49; test_loss: 1.5286319875717163; loss: 1.2520379042625427; test_accuracy: 0.35\n",
      "accuracy: 0.43; test_loss: 1.4821325540542603; loss: 1.3826280617713929; test_accuracy: 0.3675\n"
     ]
    }
   ],
   "source": [
    "#variant: different learning rate\n",
    "#adam learning rate defaults to 0.001\n",
    "def better_run(model, batchsize=16, num_epochs=2):\n",
    "\n",
    "    optimizer = chainer.optimizers.Adam(alpha=0.007) # we will use chainer's Adam implementation instead of writing our own gradient based optimization\n",
    "    optimizer.setup(model)\n",
    "    \n",
    "    stats = defaultdict(lambda: deque(maxlen=25))\n",
    "    for epoch in range(num_epochs):\n",
    "        train_iter = chainer.iterators.SerialIterator(train, batchsize, repeat=False, shuffle=True)\n",
    "        for itr, batch in enumerate(train_iter):\n",
    "            xs = np.concatenate([datum[0][None, :] for datum in batch])\n",
    "            ys = np.array([datum[1] for datum in batch])\n",
    "\n",
    "            logits = model(xs)\n",
    "\n",
    "            loss = F.softmax_cross_entropy(logits, ys)\n",
    "            model.cleargrads()\n",
    "            loss.backward()\n",
    "            optimizer.update()\n",
    "            \n",
    "            # calculate stats\n",
    "            stats[\"loss\"].append(float(loss.data))\n",
    "            stats[\"accuracy\"].append(float((logits.data.argmax(1) == ys).sum() / batchsize))\n",
    "            if itr % 300 == 0:\n",
    "                test_iter = chainer.iterators.SerialIterator(test, batchsize, repeat=False, shuffle=False)\n",
    "                # *** YOUR CODE implement logging of stats on test set ***\n",
    "                for _, test_batch in enumerate(test_iter):\n",
    "                    test_xs = np.concatenate([datum[0][None, :] for datum in test_batch])\n",
    "                    test_ys = np.array([datum[1] for datum in test_batch])\n",
    "\n",
    "                    test_logits = model(test_xs)\n",
    "\n",
    "                    test_loss = F.softmax_cross_entropy(test_logits, test_ys)\n",
    "                    model.cleargrads()\n",
    "                    test_loss.backward()\n",
    "                    #optimizer.update()\n",
    "                \n",
    "                stats[\"test_loss\"].append(float(test_loss.data))\n",
    "                stats[\"test_accuracy\"].append(float((test_logits.data.argmax(1) == test_ys).sum() / batchsize))\n",
    "                print(\"; \".join(\"%s: %s\" % (k, np.mean(vs)) for k, vs in stats.items()))\n",
    "\n",
    "better_run(MLP(200, 10))"
   ]
  },
  {
   "cell_type": "code",
   "execution_count": 21,
   "metadata": {},
   "outputs": [
    {
     "name": "stdout",
     "output_type": "stream",
     "text": [
      "accuracy: 0.125; test_loss: 2.2695131301879883; loss: 2.312281608581543; test_accuracy: 0.3125\n",
      "accuracy: 0.71; test_loss: 1.4811398088932037; loss: 0.9377676540613175; test_accuracy: 0.5625\n",
      "accuracy: 0.775; test_loss: 1.1749440630276997; loss: 0.6906700628995895; test_accuracy: 0.6458333333333334\n",
      "accuracy: 0.79; test_loss: 1.056746706366539; loss: 0.652176457643509; test_accuracy: 0.671875\n",
      "accuracy: 0.79; test_loss: 0.949461817741394; loss: 0.5882623362541198; test_accuracy: 0.7\n",
      "accuracy: 0.7525; test_loss: 0.8717192312081655; loss: 0.6523383820056915; test_accuracy: 0.71875\n",
      "accuracy: 0.74; test_loss: 0.8135931875024524; loss: 0.7001813554763794; test_accuracy: 0.7321428571428571\n",
      "accuracy: 0.8025; test_loss: 0.7683372013270855; loss: 0.5227575579285622; test_accuracy: 0.7421875\n",
      "accuracy: 0.715; test_loss: 0.7371221052275764; loss: 0.764998916387558; test_accuracy: 0.75\n",
      "accuracy: 0.795; test_loss: 0.7121702432632446; loss: 0.5586392778158188; test_accuracy: 0.75625\n",
      "accuracy: 0.795; test_loss: 0.690783752636476; loss: 0.5658568680286408; test_accuracy: 0.7613636363636364\n",
      "accuracy: 0.7775; test_loss: 0.6725755284229914; loss: 0.5759914338588714; test_accuracy: 0.765625\n",
      "accuracy: 0.745; test_loss: 0.6546160578727722; loss: 0.6375862711668014; test_accuracy: 0.7692307692307693\n",
      "accuracy: 0.77; test_loss: 0.6393514062677111; loss: 0.6034049320220948; test_accuracy: 0.7723214285714286\n",
      "accuracy: 0.7625; test_loss: 0.6259327093760173; loss: 0.5858397537469864; test_accuracy: 0.775\n",
      "accuracy: 0.7975; test_loss: 0.6155391521751881; loss: 0.514009394645691; test_accuracy: 0.77734375\n",
      "accuracy: 0.755; test_loss: 0.6052249757682576; loss: 0.6142425918579102; test_accuracy: 0.7794117647058824\n",
      "accuracy: 0.765; test_loss: 0.5962410122156143; loss: 0.6032551169395447; test_accuracy: 0.78125\n",
      "accuracy: 0.79; test_loss: 0.5883539115127764; loss: 0.5293111747503281; test_accuracy: 0.7828947368421053\n",
      "accuracy: 0.76; test_loss: 0.5807015508413315; loss: 0.5918864518404007; test_accuracy: 0.784375\n",
      "accuracy: 0.7975; test_loss: 0.5737924746104649; loss: 0.5052798688411713; test_accuracy: 0.7857142857142857\n",
      "accuracy: 0.7375; test_loss: 0.5675667375326157; loss: 0.6959318959712982; test_accuracy: 0.7869318181818182\n",
      "accuracy: 0.7625; test_loss: 0.5623791230761487; loss: 0.6140217173099518; test_accuracy: 0.7880434782608695\n",
      "accuracy: 0.8; test_loss: 0.5584438890218735; loss: 0.5029419696331024; test_accuracy: 0.7890625\n",
      "accuracy: 0.7875; test_loss: 0.5546288871765137; loss: 0.5422327160835266; test_accuracy: 0.79\n",
      "accuracy: 0.845; test_loss: 0.4812964189052582; loss: 0.4130408030748367; test_accuracy: 0.81\n"
     ]
    }
   ],
   "source": [
    "def better_run(model, batchsize=16, num_epochs=2):\n",
    "\n",
    "    optimizer = chainer.optimizers.Adam(alpha=0.0003) # we will use chainer's Adam implementation instead of writing our own gradient based optimization\n",
    "    optimizer.setup(model)\n",
    "    \n",
    "    stats = defaultdict(lambda: deque(maxlen=25))\n",
    "    for epoch in range(num_epochs):\n",
    "        train_iter = chainer.iterators.SerialIterator(train, batchsize, repeat=False, shuffle=True)\n",
    "        for itr, batch in enumerate(train_iter):\n",
    "            xs = np.concatenate([datum[0][None, :] for datum in batch])\n",
    "            ys = np.array([datum[1] for datum in batch])\n",
    "\n",
    "            logits = model(xs)\n",
    "\n",
    "            loss = F.softmax_cross_entropy(logits, ys)\n",
    "            model.cleargrads()\n",
    "            loss.backward()\n",
    "            optimizer.update()\n",
    "            \n",
    "            # calculate stats\n",
    "            stats[\"loss\"].append(float(loss.data))\n",
    "            stats[\"accuracy\"].append(float((logits.data.argmax(1) == ys).sum() / batchsize))\n",
    "            if itr % 300 == 0:\n",
    "                test_iter = chainer.iterators.SerialIterator(test, batchsize, repeat=False, shuffle=False)\n",
    "                # *** YOUR CODE implement logging of stats on test set ***\n",
    "                for _, test_batch in enumerate(test_iter):\n",
    "                    test_xs = np.concatenate([datum[0][None, :] for datum in test_batch])\n",
    "                    test_ys = np.array([datum[1] for datum in test_batch])\n",
    "\n",
    "                    test_logits = model(test_xs)\n",
    "\n",
    "                    test_loss = F.softmax_cross_entropy(test_logits, test_ys)\n",
    "                    model.cleargrads()\n",
    "                    test_loss.backward()\n",
    "                    #optimizer.update()\n",
    "                \n",
    "                stats[\"test_loss\"].append(float(test_loss.data))\n",
    "                stats[\"test_accuracy\"].append(float((test_logits.data.argmax(1) == test_ys).sum() / batchsize))\n",
    "                print(\"; \".join(\"%s: %s\" % (k, np.mean(vs)) for k, vs in stats.items()))\n",
    "\n",
    "better_run(MLP(200, 10))"
   ]
  },
  {
   "cell_type": "code",
   "execution_count": null,
   "metadata": {
    "collapsed": true
   },
   "outputs": [],
   "source": []
  }
 ],
 "metadata": {
  "kernelspec": {
   "display_name": "Python 3",
   "language": "python",
   "name": "python3"
  },
  "language_info": {
   "codemirror_mode": {
    "name": "ipython",
    "version": 3
   },
   "file_extension": ".py",
   "mimetype": "text/x-python",
   "name": "python",
   "nbconvert_exporter": "python",
   "pygments_lexer": "ipython3",
   "version": "3.5.3"
  }
 },
 "nbformat": 4,
 "nbformat_minor": 1
}
